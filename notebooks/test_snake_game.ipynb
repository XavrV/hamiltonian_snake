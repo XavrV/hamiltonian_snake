
{
 "cells": [
  {
   "cell_type": "markdown",
   "metadata": {},
   "source": [
    "# 🧪 Snake Hybrid AI - Notebook de Testeo Interactivo\n",
    "Este notebook permite probar el entorno `SnakeGame` paso a paso, visualizar estados y validar nuevas funcionalidades conforme se desarrollan los módulos del sistema híbrido."
   ]
  },
  {
   "cell_type": "code",
   "execution_count": null,
   "metadata": {},
   "outputs": [],
   "source": [
    "# 🔁 Inicialización\n",
    "from game.snake_game import SnakeGame, Point\n",
    "import matplotlib.pyplot as plt\n",
    "import numpy as np\n",
    "\n",
    "# Parámetros del tablero\n",
    "WIDTH, HEIGHT = 10, 10\n",
    "game = SnakeGame(width=WIDTH, height=HEIGHT)"
   ]
  },
  {
   "cell_type": "code",
   "execution_count": null,
   "metadata": {},
   "outputs": [],
   "source": [
    "# 🔍 Visualización simple del tablero\n",
    "def mostrar_tablero(game):\n",
    "    tablero = np.zeros((game.height, game.width), dtype=int)\n",
    "    for p in game.get_snake_body():\n",
    "        tablero[p.y][p.x] = 1\n",
    "    f = game.get_food()\n",
    "    tablero[f.y][f.x] = 2\n",
    "    h = game.get_head()\n",
    "    tablero[h.y][h.x] = 9\n",
    "    \n",
    "    plt.figure(figsize=(5,5))\n",
    "    plt.imshow(tablero, cmap='viridis', interpolation='none')\n",
    "    plt.title('Estado del juego (9=cabeza, 2=comida, 1=cuerpo)')\n",
    "    plt.grid(False)\n",
    "    plt.show()\n",
    "\n",
    "mostrar_tablero(game)"
   ]
  },
  {
   "cell_type": "code",
   "execution_count": null,
   "metadata": {},
   "outputs": [],
   "source": [
    "# ▶️ Ejecutar un paso manual\n",
    "# Acción: [1,0,0]=recto, [0,1,0]=derecha, [0,0,1]=izquierda\n",
    "accion = [1, 0, 0]\n",
    "reward, done, score = game.play_step(accion)\n",
    "print('Recompensa:', reward, '| Terminado:', done, '| Puntaje:', score)\n",
    "mostrar_tablero(game)"
   ]
  }
 ],
 "metadata": {
  "kernelspec": {
   "display_name": "Python 3",
   "language": "python",
   "name": "python3"
  },
  "language_info": {
   "name": "python"
  }
 },
 "nbformat": 4,
 "nbformat_minor": 5
}
